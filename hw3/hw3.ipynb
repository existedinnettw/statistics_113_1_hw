{
 "cells": [
  {
   "cell_type": "markdown",
   "id": "dd148709-7061-41db-a88d-078b9f9b7298",
   "metadata": {
    "editable": true,
    "slideshow": {
     "slide_type": ""
    },
    "tags": []
   },
   "source": [
    "## q1\n",
    "\n",
    "(30 points; 5 points each) The sheet “Consumer Food” of the MS Excel file “Stat113-1_hw03_data.xlsx”\n",
    "contains data from 200 household around the US. Columns A, B, and C contain the amounts spent\n",
    "on food in a year (in \\\\$), the amount earned in a year (in \\\\$), and the amount of non-mortgage\n",
    "debts (in \\\\$). Column D records the region that each household belongs to, where 1 is for north\n",
    "east, 2 is for middle west, 3 is for south, and 4 is for west. Column E records the location of\n",
    "the household, where 1 means inside a metropolitan area and 2 means the opposite. Answer the\n",
    "following questions based on the data.\n"
   ]
  },
  {
   "cell_type": "code",
   "execution_count": null,
   "id": "6d984a51-f153-461d-866e-8c32197b217f",
   "metadata": {},
   "outputs": [],
   "source": [
    "import pandas as pd\n",
    "df=pd.read_excel(\"Stat113-1_hw03_data.xlsx\")\n",
    "df.head(4)"
   ]
  },
  {
   "cell_type": "markdown",
   "id": "44cddbb4-d45e-445e-bb5e-9ceb2de57676",
   "metadata": {},
   "source": [
    "### 1a\n",
    "\n",
    " For the food expenditures, find the mode, mean, median, variance, and standard deviation.\n",
    "Note that for the mode, you need to construct the frequency distribution and find the modal\n",
    "class; for variance and standard deviation, please consider the given data as a sample."
   ]
  },
  {
   "cell_type": "code",
   "execution_count": null,
   "id": "ca538be6-ef0c-4ca8-afa1-c89aeaeb800f",
   "metadata": {},
   "outputs": [],
   "source": [
    "expenditures=df[\"Food\"]\n",
    "# print(type(expenditures))\n",
    "\n",
    "print(\"mode:\", expenditures.mode().values) #眾數, pandas.Series.mode\n",
    "print(\"mean:\", expenditures.mean())\n",
    "print(\"median:\", expenditures.median())\n",
    "print(\"variance:\", expenditures.var())\n",
    "print(\"standard deviation:\",expenditures.std())"
   ]
  },
  {
   "cell_type": "markdown",
   "id": "8ed662cf-418c-409b-8572-a7bda974f20e",
   "metadata": {},
   "source": [
    "### 1b\n",
    "\n",
    "Based on your answers in Subproblem 1a, predict the shape of the distribution of the non-\n",
    "mortgage debts. In particular, do you think it will be left-tailed, right-tailed, or symmetric?\n",
    "Why? Draw a histogram to verify your prediction."
   ]
  },
  {
   "cell_type": "code",
   "execution_count": null,
   "id": "db468a72-c881-4333-819f-88871c9a9ed1",
   "metadata": {},
   "outputs": [],
   "source": [
    "ax = df[\"Debt\"].plot.hist(bins=50, alpha=0.9)"
   ]
  },
  {
   "cell_type": "markdown",
   "id": "11b2465d-e309-4c28-8fb2-058531dbaa9d",
   "metadata": {},
   "source": [
    "### 1c\n",
    "For the non-mortgage debts, find the first ~~quartile~~quantile Q1 , the third ~~quartile~~quantile Q3, interquartile\n",
    "range, the 95th percentile, and the percent rank of $10,000. Interpret these numbers to\n",
    "describe the behaviors of these households in non-mortgage debts."
   ]
  },
  {
   "cell_type": "code",
   "execution_count": null,
   "id": "b3d4d130-009d-4bdb-8c3a-781bd5c5ce62",
   "metadata": {},
   "outputs": [],
   "source": [
    "debt=df[\"Debt\"]\n",
    "q1=debt.quantile(q=0.25)\n",
    "print(\"q1:\",q1)\n",
    "q2=debt.quantile(q=0.75)\n",
    "print(\"q2:\",q2)"
   ]
  },
  {
   "cell_type": "markdown",
   "id": "faa7940e-f45a-4ccc-aa87-2fc819fb5144",
   "metadata": {},
   "source": [
    "### 1d\n",
    "\n",
    "For the incomes, verify Chebyshev’s theorem for k = 1.5 and k = 2, where k is the number of\n",
    "standard deviations from the mean."
   ]
  },
  {
   "cell_type": "markdown",
   "id": "441d788d-0b62-4c1d-8ba1-efbe39ecf542",
   "metadata": {},
   "source": [
    "Chebyshev’s theorem is Chebyshev's Inequality"
   ]
  },
  {
   "cell_type": "code",
   "execution_count": null,
   "id": "0153798c-2202-4b8f-acc3-a1406b8918f7",
   "metadata": {},
   "outputs": [],
   "source": [
    "def chebyshev_ineq(k:float):\n",
    "    \"\"\"\n",
    "    find boundary of PDF\n",
    "    \"\"\"\n",
    "    return 1-(1/k**2)\n",
    "    \n",
    "assert chebyshev_ineq(2) == 3/4 #unittest\n",
    "\n",
    "def find_actual_el_num_in_range(series: pd.Series, k:float):\n",
    "    std=series.std()\n",
    "    mean=series.mean()\n",
    "    upper=mean+k*std\n",
    "    lower=mean-k*std\n",
    "    # print(lower,upper)\n",
    "    return series.between(lower, upper, inclusive=\"both\").sum()\n",
    "\n",
    "incomes = df[\"Income\"]\n",
    "k1p5_actual=find_actual_el_num_in_range(incomes, 1.5)\n",
    "k1p5_bound=incomes.size*chebyshev_ineq(1.5)\n",
    "print(\"k=1.5, actual:{} should >= chebyshev ineq bound:{}\".format(k1p5_actual, k1p5_bound))\n",
    "assert k1p5_actual>=k1p5_bound\n",
    "assert find_actual_el_num_in_range(incomes, 2)>=incomes.size*chebyshev_ineq(2)"
   ]
  },
  {
   "cell_type": "markdown",
   "id": "2f6bacb6-581f-44b8-818c-e0e7d6419e12",
   "metadata": {},
   "source": [
    "### 1e\n",
    " For the incomes, calculate the estimations of proportions based on the empirical rule for one,\n",
    "two, and three standard deviations. Are the estimations closed to the real proportions? Why?"
   ]
  },
  {
   "cell_type": "markdown",
   "id": "d0221ba9-85dd-4646-b1c0-902e089e12b2",
   "metadata": {},
   "source": [
    "[wiki 68–95–99.7法則](https://zh.wikipedia.org/zh-tw/68%E2%80%9395%E2%80%9399.7%E6%B3%95%E5%89%87)"
   ]
  },
  {
   "cell_type": "code",
   "execution_count": null,
   "id": "5735911e-b181-42cd-bb29-24cdd7ce0fa0",
   "metadata": {},
   "outputs": [],
   "source": [
    "#actual proportion\n",
    "def proportion_of_std_range(series:pd.Series, k:float):\n",
    "    return find_actual_el_num_in_range(incomes, k)/incomes.size\n",
    "print(\"1 std portion, actual:{}, predict:0.68\".format(proportion_of_std_range(incomes,1)))\n",
    "print(\"2 std portion, actual:{}, predict:0.95\".format(proportion_of_std_range(incomes,2)))\n",
    "print(\"3 std portion, actual:{}, predict:0.997\".format(proportion_of_std_range(incomes,3)))\n"
   ]
  },
  {
   "cell_type": "markdown",
   "id": "594e4c57-1b82-4c75-84f0-7a506f36a0f4",
   "metadata": {},
   "source": [
    "### 1f\n",
    "For the food expenditures, incomes, and non-mortgage debts, find the three correlation coef-\n",
    "ficients of the three pairs. For each correlation coefficient, draw a corresponding scatter plot.\n",
    "Make interpretation of these three pairs regarding their correlation."
   ]
  },
  {
   "cell_type": "code",
   "execution_count": null,
   "id": "9848a7fe-39ad-44a1-9925-382120682251",
   "metadata": {},
   "outputs": [],
   "source": [
    "df_sub=df[[\"Food\",\"Income\",\"Debt\"]]\n",
    "corr_mat=df_sub.corr(method=\"pearson\")\n",
    "print(corr_mat)\n",
    "\n",
    "ax1 = df.plot.scatter(x='Food',y='Income')\n",
    "ax2 = df.plot.scatter(x='Food',y='Debt')\n",
    "ax3 = df.plot.scatter(x='Income',y='Debt')"
   ]
  },
  {
   "cell_type": "markdown",
   "id": "43a1dd23-79e6-4610-aa3e-e9fbd5e41955",
   "metadata": {},
   "source": [
    "## q3\n",
    "\n",
    "(50 points; 10 points each) Consider the in-class case study of bike rentals introduced on September\n",
    "11, 2024. Answer the following questions using the daily rental data set in that case study."
   ]
  },
  {
   "cell_type": "code",
   "execution_count": null,
   "id": "7c413e4d-be50-4134-8d5b-aeccda92a9ca",
   "metadata": {},
   "outputs": [],
   "source": [
    "import pandas as pd\n",
    "import matplotlib.pyplot as plt\n",
    "df=pd.read_excel(\"Stat113-1_case03_bike_data.xlsx\")\n",
    "df.head(4)"
   ]
  },
  {
   "cell_type": "markdown",
   "id": "e80bacf8-80b8-4cff-892e-eb1595975a56",
   "metadata": {},
   "source": [
    "### 3a\n",
    "For the member rentals, find the minimum, maximum, mean, median, first quartile, and\n",
    "third quartile. Draw a histogram and box plot. Comment on the shape of the distribution\n",
    "(left-tailed, right-tailed, symmetric, etc.) based on the two figures and some of the numerical\n",
    "summaries. Repeat everything for non-member rentals."
   ]
  },
  {
   "cell_type": "code",
   "execution_count": null,
   "id": "9dd5bdeb-bd18-4098-928b-1d7c4398a8d2",
   "metadata": {},
   "outputs": [],
   "source": [
    "registered=df[\"registered\"]\n",
    "print(\"min:\",registered.min())\n",
    "print(\"max:\",registered.max())\n",
    "print(\"mean:\",registered.mean())\n",
    "print(\"median:\",registered.median())\n",
    "print(\"q1:\",registered.quantile(q=0.25))\n",
    "print(\"q3:\",registered.quantile(q=0.25))\n",
    "\n",
    "fig, axs = plt.subplots(1, 2, figsize=(9, 4), layout=\"constrained\")\n",
    "registered.plot.hist(bins=50, alpha=0.9, ax=axs[0])\n",
    "registered.plot.box(ax=axs[1])"
   ]
  },
  {
   "cell_type": "code",
   "execution_count": null,
   "id": "b609d4e9-83b8-4269-b47a-1f282f378bc2",
   "metadata": {},
   "outputs": [],
   "source": [
    "casual=df[\"casual\"]\n",
    "print(\"min:\",casual.min())\n",
    "print(\"max:\",casual.max())\n",
    "print(\"mean:\",casual.mean())\n",
    "print(\"median:\",casual.median())\n",
    "print(\"q1:\",casual.quantile(q=0.25))\n",
    "print(\"q3:\",casual.quantile(q=0.25))\n",
    "\n",
    "fig, axs = plt.subplots(1, 2, figsize=(9, 4), layout=\"constrained\")\n",
    "casual.plot.hist(bins=50, alpha=0.9, ax=axs[0])\n",
    "casual.plot.box(ax=axs[1])"
   ]
  },
  {
   "cell_type": "markdown",
   "id": "4ba1eadd-047e-439c-b58e-74db05103ede",
   "metadata": {},
   "source": [
    "### 3b\n",
    "\n",
    "We are interested in how the weather situation affects the member rentals. Please split the\n",
    "member rentals into three subgroups, one for each weather situation. Draw a box plot for\n",
    "each subgroup, and put the three box plots in the same figure. Calculate useful descriptive\n",
    "summaries for each subgroup. Use all the information above to comment on the impact of\n",
    "weather situation on the member rentals regarding central tendency and spread. Repeat\n",
    "everything for non-member rentals."
   ]
  },
  {
   "cell_type": "code",
   "execution_count": null,
   "id": "80f6dade-51d4-4e0a-9b2e-451e1b3bfb2b",
   "metadata": {},
   "outputs": [],
   "source": [
    "# df_weather_1 = df[df[\"weathersit\"] == 1]\n",
    "# df_weather_2 = df[df[\"weathersit\"] == 2]\n",
    "# df_weather_3 = df[df[\"weathersit\"] == 3]\n",
    "# print(\"Weather Situation 1:\\n\", df_weather_1.head(3),'\\n')\n",
    "# print(\"Weather Situation 2:\\n\", df_weather_2.head(3),'\\n')\n",
    "# print(\"Weather Situation 3:\\n\", df_weather_3.head(3),'\\n')"
   ]
  },
  {
   "cell_type": "code",
   "execution_count": null,
   "id": "307d9464-0609-4c8a-9224-b6a0ad04c1c5",
   "metadata": {},
   "outputs": [],
   "source": [
    "ax = df.plot.box(column=\"registered\", by=\"weathersit\")"
   ]
  },
  {
   "cell_type": "code",
   "execution_count": null,
   "id": "a6a2b2ca-3fd4-4cea-b9ed-e4f49bb5d377",
   "metadata": {},
   "outputs": [],
   "source": [
    "ax = df.plot.box(column=\"casual\", by=\"weathersit\")"
   ]
  },
  {
   "cell_type": "markdown",
   "id": "8a79f5db-1d38-49bb-ad04-cfbb2a9310c9",
   "metadata": {},
   "source": [
    "### 3c\n",
    "\n",
    "We are interested in how the work requirement (whether a day is a work day) affects the\n",
    "member rentals. Please split the member rentals into two subgroups, one for each work\n",
    "requirement. Draw a box plot for each subgroup, and put the two box plots in the same\n",
    "figure. Calculate useful descriptive summaries for each subgroup. Use all the information\n",
    "above to comment on the impact of work requirement on the member rentals regarding central\n",
    "tendency and spread. Repeat everything for non-member rentals."
   ]
  },
  {
   "cell_type": "code",
   "execution_count": null,
   "id": "a23f9ab1-519d-497f-8b40-3dc5beef01a9",
   "metadata": {},
   "outputs": [],
   "source": [
    "ax = df.plot.box(column=\"registered\", by=\"workday\")"
   ]
  },
  {
   "cell_type": "code",
   "execution_count": null,
   "id": "b6f58bec-96de-4d4e-b340-c1369f49cd01",
   "metadata": {},
   "outputs": [],
   "source": [
    "ax = df.plot.box(column=\"casual\", by=\"workday\")"
   ]
  },
  {
   "cell_type": "markdown",
   "id": "6ba1ba93-a1d8-46ca-b746-df66659b9165",
   "metadata": {},
   "source": [
    "### 3d\n",
    "\n",
    "Continue from the previous subproblem. Now we want to add temperature into the analysis\n",
    "along with work requirement. Consider member rentals first. Please draw a scatter plot with\n",
    "two sets of dots, where the first set is for temperatures and work-day member rentals, and\n",
    "the second is for temperatures and non-work-day member rentals. Make the two sets of dots\n",
    "in different colors (and choose meaningful colors to represent work days and non-work days).\n",
    "Calculate useful descriptive summaries for each set of dots. Use all the information above to\n",
    "comment on the impact of temperature and work requirement on the member rentals. Repeat\n",
    "everything for non-member rentals."
   ]
  },
  {
   "cell_type": "code",
   "execution_count": null,
   "id": "6f35c9c2-50cf-489a-adbc-9f0569abee9b",
   "metadata": {},
   "outputs": [],
   "source": [
    "fig, axs = plt.subplots(1, 2, figsize=(9, 4), layout=\"constrained\")\n",
    "df[df['workday']==1].plot.scatter(x='temp',y='registered', ax=axs[0])\n",
    "df[df['workday']==0].plot.scatter(x='temp',y='registered', ax=axs[1])"
   ]
  },
  {
   "cell_type": "code",
   "execution_count": null,
   "id": "08e987b2-bd04-4478-b2b0-f4d36c563070",
   "metadata": {},
   "outputs": [],
   "source": [
    "fig, axs = plt.subplots(1, 2, figsize=(9, 4), layout=\"constrained\")\n",
    "df[df['workday']==1].plot.scatter(x='temp',y='casual', ax=axs[0])\n",
    "df[df['workday']==0].plot.scatter(x='temp',y='casual', ax=axs[1])"
   ]
  },
  {
   "cell_type": "markdown",
   "id": "e1e9c495-3155-4f3c-a129-6e6e5cff138a",
   "metadata": {},
   "source": [
    "### 3e\n",
    "\n",
    "This is an open question. Do any analysis (that is not done in the above) you like to comment\n",
    "on factors that affect member and non-member rentals. Provide graphical or numerical evi-\n",
    "dence to support your comments. The number of points you get is based on how persuasive\n",
    "and meaningful your comments are."
   ]
  },
  {
   "cell_type": "code",
   "execution_count": null,
   "id": "fbe1998b-c4d1-4402-8b2d-73cc9b7b7142",
   "metadata": {},
   "outputs": [],
   "source": []
  }
 ],
 "metadata": {
  "language_info": {
   "name": "python"
  }
 },
 "nbformat": 4,
 "nbformat_minor": 5
}
